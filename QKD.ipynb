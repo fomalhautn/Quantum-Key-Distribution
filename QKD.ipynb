{
 "cells": [
  {
   "cell_type": "markdown",
   "id": "8b3014fc-59d0-4679-ad43-08f170725533",
   "metadata": {
    "jp-MarkdownHeadingCollapsed": true,
    "tags": []
   },
   "source": [
    "<table>\n",
    "    <tr>\n",
    "      <td>\n",
    "      <img src='https://www.akc.ac.cy/images/2022/03/Funded-by-the-European-Union.png' width=450>\n",
    "      </td>\n",
    "      <td>\n",
    "      <img src='https://newsroom.unl.edu/announce/files/file143411.jpg' width=310>\n",
    "      </td>\n",
    "      <td>\n",
    "      <img src='https://www.akc.ac.cy/images/2022/03/Funded-by-the-European-Union.png' width=450>\n",
    "      </td>\n",
    "     </tr>\n",
    "</table>\n",    
    "\n",
    "<div style=\"text-align: center; margin: 50px\">\n",
    "\n",
    "<h1 style=\"text-align: center;\"><a href=\"https://qtom.qtedu.eu/shared-course/qtom-fridays-a-trip-through-the-world-of-quantum-technology/\">QTOM Fridays – A trip through the world of Quantum Technology</a></h1> \n",
    "<h2 style=\"text-align: center;\">Summer Semester 2022</h2>\n",
    "<h2 style=\"text-align: center;\"><a href=\"https://qt.eu/\">European Union Quantum Flagship /</a> <a href=\"https://qtom.qtedu.eu/\">QTEdu Quantum Technology Open Master</a></h2>\n",
    "<h2 style=\"text-align: center;\">IBM Quantum</h2>\n",
    "<h3>Exercise Set 7: <em>Quantum Key Distribution</em>.</h3>\n",
    "<h3>Anastasiia Andriievska</h3>\n",
    "\n",
    "</div>"
   ]
  },
  {
   "cell_type": "code",
   "execution_count": 13,
   "id": "c3b0305c-29ce-4044-a3ff-f07eac0740d5",
   "metadata": {},
   "outputs": [
    {
     "name": "stderr",
     "output_type": "stream",
     "text": [
      "ibmqfactory.load_account:WARNING:2022-07-01 02:25:07,047: Credentials are already in use. The existing account in the session will be replaced.\n"
     ]
    },
    {
     "name": "stdout",
     "output_type": "stream",
     "text": [
      "Libraries imported successfully!\n"
     ]
    }
   ],
   "source": [
    "import numpy as np\n",
    "from random import getrandbits\n",
    "# Importing standard Qiskit libraries\n",
    "from qiskit import QuantumCircuit, execute, transpile, Aer, IBMQ\n",
    "from qiskit.tools.jupyter import *\n",
    "from qiskit.visualization import *\n",
    "from ibm_quantum_widgets import *\n",
    "from qiskit_textbook.tools import array_to_latex\n",
    "\n",
    "\n",
    "import warnings  # We are using this library to suppress some warning messages\n",
    "warnings.filterwarnings(\"ignore\")\n",
    "\n",
    "provider = IBMQ.load_account()\n",
    "print(\"Libraries imported successfully!\")"
   ]
  },
  {
   "cell_type": "markdown",
   "id": "92f3ab0e-6e06-417c-9eda-d12f26b1c07f",
   "metadata": {},
   "source": [
    "<h3>Quantum key distribution (QKD) / <em>Prepare-and-measure method</em></h3>\n",
    "<h4>QKD is a cryptographic quantum protocol which uses the properties of quantum mechanics to allow devices to communicate with each other.</h4>\n",
    "<h4>Quantum cybersecurity protocols can be proactive, meaning that they can detect breaches before any critical data is accessed.</h4>\n",
    "<h4>The key is the piece of information that is needed to encrypt and decrypt a message.</h4>\n",
    "<h4>Once the key is shared between the sender and receiver, they can communicate through public channels,</h4>\n",
    "<h4>since only they can encrypt and decrypt the message.</h4>\n",
    "<h4>Anyone else who intercepts the encrypted message will not be able to decrypt it because they do not have the key.</h4>\n",
    "<h4>QKD is secure key distribution. In QKD, the key is shared through qubits.</h4>\n",
    "<h4>Security is provided by the fundamental properties of quantum measurement.</h4>\n",
    "<h4>Measuring a qubit state can change it. Therefore, the sender (Alice) and receiver (Bob) can detect if an eavesdropper measured the qubits.</h4>"
   ]
  },
  {
   "cell_type": "markdown",
   "id": "a3b60638-4415-441d-bf41-bbcd7b975cce",
   "metadata": {
    "tags": []
   },
   "source": [
    "<h3>QKD is divided into three phases:</h3>\n",
    "<h3>&nbsp;&nbsp;&nbsp;&nbsp;a. Phase 1: Sending</h3>\n",
    "<h3>&nbsp;&nbsp;&nbsp;&nbsp;&nbsp;&nbsp;&nbsp;&nbsp;i. Step 1: Alice generates a random list of classical bits (0s and 1s). Some of these bits will eventually make the final key.</h3>\n",
    "<h3>&nbsp;&nbsp;&nbsp;&nbsp;&nbsp;&nbsp;&nbsp;&nbsp;Bob does not know which bits Alice generated.</h3>"
   ]
  },
  {
   "cell_type": "code",
   "execution_count": 2,
   "id": "0555f08b-72da-4dab-8bdb-cccaf98530e9",
   "metadata": {},
   "outputs": [
    {
     "name": "stdout",
     "output_type": "stream",
     "text": [
      "['0', '0', '1', '0', '1', '1', '0', '0', '0', '1', '0', '0', '0', '0', '0', '1', '1', '1', '1', '0', '0', '0', '1', '0', '1', '0', '0', '0', '1', '1', '0', '0', '1', '1', '1', '1', '0', '1', '0', '1', '0', '0', '0', '1', '1', '0', '1', '0', '1', '1', '1', '0', '1', '0', '1', '0', '1', '1', '0', '0', '1', '1', '0', '1', '0', '1', '1', '0', '1', '0', '1', '0', '1', '0', '0', '1', '1', '1', '1', '0', '1', '0', '0', '1', '0', '0', '1', '0', '0', '1', '0', '0', '0', '1', '0', '1', '0', '1', '0', '1', '0', '1', '0', '0', '1', '1', '1', '0', '0', '0', '1', '1', '0', '0', '1', '0', '0', '0', '0', '0', '0', '1', '1', '1', '1', '0', '0', '0', '0', '1', '1', '0', '1', '0', '1', '0', '0', '0', '1', '1', '1', '1', '1', '1', '0', '0', '0', '0', '1', '0', '0', '1', '0', '1', '0', '0', '1', '1', '1', '1', '1', '1', '1', '0', '0', '1', '0', '0', '1', '1', '0', '0', '1', '1', '0', '1', '0', '1', '1', '0', '0', '0', '1', '0', '0', '0', '0', '0', '1', '1', '1', '0', '1', '1', '1', '0', '0', '0', '1', '1', '0', '0', '1', '0', '0', '1', '0', '0', '0', '0', '0', '1', '1', '1', '1', '0', '0', '1', '1', '0', '1', '0', '1', '0', '0', '1', '1', '1', '1', '1', '1', '0', '0', '0', '0', '1', '0', '0', '1', '0', '0', '0', '0', '1', '0', '1', '0', '1', '1', '1', '1', '0', '1', '1', '0', '0', '1', '0', '1', '1', '0', '1', '0', '0', '0', '1', '0', '0', '1', '0', '0', '1', '0', '1', '0', '1', '0', '0', '1', '0', '1', '0', '0', '0', '0', '0', '1', '1', '1', '0', '0', '1', '1', '1', '1', '0', '1', '1', '1', '1', '0', '0', '1', '0', '0', '0', '0', '1', '0', '1', '1', '0', '1', '1', '1', '0', '1', '1', '0', '1', '0', '1', '1', '1', '1', '0', '0', '0', '1', '1', '0', '0', '0', '1', '0', '0', '1', '0', '0', '1', '0', '1', '1', '1', '0', '0', '1', '1', '0', '0', '0', '1', '0', '0', '0', '0', '0', '0', '1', '1', '0', '0', '0', '1', '1', '0', '0', '0', '0', '1', '1', '1', '1', '0', '1', '0', '1', '1', '1', '1', '1', '1', '0', '0', '1', '1', '0', '1', '0', '0', '0', '1', '0', '1', '1', '0', '1', '0', '0', '1', '1', '0', '1', '1', '0', '0', '0', '1', '1', '0', '0', '1', '1', '0', '0', '0', '0', '0', '0', '1', '1', '1', '0', '1', '1', '0', '0', '0', '1', '1', '1', '1', '0', '1', '1', '0', '0', '0', '1', '0', '1', '0', '0', '0', '1', '1', '0', '0', '0', '1', '1', '1', '1', '1', '0', '1', '1', '1', '0', '1', '1', '0', '0', '0', '0', '0', '1', '0', '1', '1', '0', '1', '0', '0', '0', '0', '0', '0', '1', '1', '1', '0', '1', '1', '1', '0', '0', '0', '1', '0', '1', '1', '1', '1', '1', '1', '1', '0', '0', '0']\n"
     ]
    }
   ],
   "source": [
    "# Generate Alice's bits.\n",
    "\n",
    "alice_bits = [] # This list will store Alice's bits\n",
    "    \n",
    "for i in range(500):   # Generate 500 random bits\n",
    "    alice_bits.append(str(getrandbits(1)))  # The function getrandbits generates 1 random bit\n",
    "print(alice_bits)"
   ]
  },
  {
   "cell_type": "markdown",
   "id": "cc4a8759-b1a2-4732-9ccf-a30dac9ed003",
   "metadata": {},
   "source": [
    "<h3>&nbsp;&nbsp;&nbsp;&nbsp;&nbsp;&nbsp;&nbsp;&nbsp;ii. Step 2: Alice generates a random list of bases (X and Z). Bob does not know which bases Alice generated.</h3>\n",
    "<h3>&nbsp;&nbsp;&nbsp;&nbsp;&nbsp;&nbsp;&nbsp;&nbsp;In QKD, we encode bits into qubits using one of two possible bases - X and Z.</h3>"
   ]
  },
  {
   "cell_type": "code",
   "execution_count": 3,
   "id": "79d3a17f-8e2a-4e11-b2af-d2e4357514f8",
   "metadata": {},
   "outputs": [
    {
     "name": "stdout",
     "output_type": "stream",
     "text": [
      "['Z', 'X', 'Z', 'Z', 'Z', 'Z', 'X', 'X', 'Z', 'X', 'X', 'Z', 'Z', 'X', 'X', 'Z', 'X', 'Z', 'Z', 'X', 'X', 'Z', 'Z', 'X', 'X', 'X', 'X', 'Z', 'Z', 'Z', 'X', 'X', 'Z', 'Z', 'Z', 'Z', 'X', 'Z', 'X', 'Z', 'X', 'X', 'X', 'Z', 'X', 'Z', 'X', 'X', 'Z', 'X', 'X', 'X', 'Z', 'X', 'Z', 'X', 'Z', 'X', 'X', 'Z', 'X', 'X', 'Z', 'Z', 'Z', 'X', 'X', 'X', 'X', 'Z', 'Z', 'X', 'Z', 'Z', 'X', 'Z', 'X', 'X', 'X', 'Z', 'X', 'Z', 'X', 'Z', 'X', 'X', 'X', 'X', 'X', 'X', 'X', 'X', 'Z', 'X', 'X', 'X', 'X', 'X', 'Z', 'Z', 'X', 'Z', 'X', 'X', 'X', 'Z', 'Z', 'Z', 'Z', 'X', 'X', 'Z', 'X', 'X', 'Z', 'X', 'Z', 'Z', 'X', 'Z', 'Z', 'X', 'X', 'Z', 'Z', 'X', 'Z', 'Z', 'Z', 'Z', 'X', 'Z', 'X', 'X', 'Z', 'Z', 'Z', 'Z', 'X', 'X', 'Z', 'Z', 'Z', 'Z', 'Z', 'X', 'Z', 'Z', 'Z', 'Z', 'X', 'X', 'Z', 'X', 'X', 'Z', 'Z', 'X', 'Z', 'Z', 'X', 'Z', 'X', 'Z', 'Z', 'Z', 'X', 'X', 'Z', 'Z', 'Z', 'X', 'Z', 'Z', 'Z', 'Z', 'Z', 'X', 'Z', 'Z', 'Z', 'X', 'X', 'X', 'X', 'Z', 'X', 'X', 'Z', 'Z', 'X', 'Z', 'X', 'Z', 'X', 'Z', 'X', 'Z', 'Z', 'Z', 'X', 'Z', 'X', 'X', 'X', 'Z', 'X', 'Z', 'X', 'Z', 'X', 'Z', 'Z', 'Z', 'Z', 'X', 'Z', 'Z', 'Z', 'X', 'X', 'Z', 'X', 'X', 'Z', 'X', 'Z', 'Z', 'Z', 'Z', 'X', 'X', 'Z', 'Z', 'X', 'X', 'Z', 'X', 'X', 'Z', 'X', 'Z', 'X', 'Z', 'Z', 'X', 'Z', 'X', 'X', 'Z', 'Z', 'X', 'X', 'Z', 'X', 'X', 'Z', 'Z', 'X', 'X', 'Z', 'Z', 'Z', 'Z', 'Z', 'Z', 'X', 'X', 'X', 'X', 'Z', 'X', 'Z', 'Z', 'X', 'Z', 'X', 'Z', 'X', 'Z', 'Z', 'Z', 'X', 'Z', 'Z', 'X', 'Z', 'Z', 'X', 'Z', 'Z', 'X', 'X', 'Z', 'Z', 'X', 'Z', 'X', 'X', 'X', 'X', 'X', 'Z', 'X', 'X', 'Z', 'Z', 'X', 'Z', 'Z', 'Z', 'Z', 'X', 'Z', 'Z', 'Z', 'X', 'Z', 'X', 'Z', 'X', 'X', 'X', 'Z', 'X', 'X', 'X', 'X', 'X', 'X', 'X', 'Z', 'X', 'Z', 'Z', 'Z', 'Z', 'Z', 'X', 'X', 'Z', 'X', 'Z', 'X', 'X', 'Z', 'Z', 'X', 'X', 'X', 'Z', 'X', 'Z', 'X', 'X', 'Z', 'X', 'X', 'Z', 'Z', 'Z', 'X', 'X', 'Z', 'X', 'X', 'X', 'X', 'Z', 'X', 'Z', 'X', 'Z', 'Z', 'X', 'X', 'X', 'Z', 'X', 'Z', 'Z', 'Z', 'Z', 'Z', 'X', 'Z', 'Z', 'X', 'Z', 'Z', 'X', 'X', 'Z', 'Z', 'Z', 'Z', 'X', 'Z', 'Z', 'X', 'Z', 'X', 'X', 'Z', 'Z', 'Z', 'Z', 'Z', 'X', 'Z', 'Z', 'Z', 'X', 'X', 'Z', 'X', 'X', 'Z', 'Z', 'X', 'X', 'Z', 'Z', 'Z', 'Z', 'X', 'X', 'X', 'X', 'X', 'Z', 'Z', 'Z', 'Z', 'X', 'Z', 'X', 'X', 'X', 'X', 'Z', 'X', 'X', 'Z', 'X', 'Z', 'Z', 'X', 'Z', 'X', 'X', 'X', 'X', 'X', 'Z', 'Z', 'Z', 'X', 'X', 'X', 'Z', 'X', 'X', 'X', 'Z', 'X', 'X', 'X', 'X', 'X', 'X', 'X', 'Z', 'X', 'X', 'X', 'X', 'Z', 'X', 'X', 'X', 'X', 'X', 'X', 'Z', 'Z', 'X', 'X', 'Z', 'X', 'Z', 'Z', 'X', 'X', 'X', 'Z', 'X', 'Z', 'X', 'X']\n"
     ]
    }
   ],
   "source": [
    "# Generate Alice's bases.\n",
    "\n",
    "alice_bases = []  # List to store Alice's bases\n",
    "for i in range(500):\n",
    "    base = getrandbits(1)\n",
    "    if base == 0:\n",
    "        alice_bases.append(\"Z\")\n",
    "    else:\n",
    "        alice_bases.append(\"X\")\n",
    "\n",
    "# Display Alice's bases\n",
    "print(alice_bases)"
   ]
  },
  {
   "cell_type": "markdown",
   "id": "24b860b2-d61f-4e97-a71b-2fefbbfb9164",
   "metadata": {},
   "source": [
    "<h3>&nbsp;&nbsp;&nbsp;&nbsp;&nbsp;&nbsp;&nbsp;&nbsp;iii. Step 3: Alice encodes the list of bits (from step 1) into qubits using the list of bases (from step 2), and the encoding table.</h3>\n",
    "<h3>&nbsp;&nbsp;&nbsp;&nbsp;&nbsp;&nbsp;&nbsp;&nbsp;So, for example, if Alice’s bit is 1 and basis is X, Alice creates a qubit in the $|-\\rangle$ state.</h3>\n",
    "<h3>&nbsp;&nbsp;&nbsp;&nbsp;&nbsp;&nbsp;&nbsp;&nbsp;The table below summarizes the qubit states Alice sends, based on the bit of Alice's `alice_bits` the corresponding bit of `selected_bases`:</h3><br>\n",
    "\n",
    "| Bit in `alice_bits` | Corresponding basis in `alice_bases` | Encoding basis | Qubit state sent |\n",
    "|:-:|:-:|:-:|:-:|\n",
    "| 0 | Z | $$|0\\rangle,|1\\rangle$$ |$$|0\\rangle$$ |\n",
    "| 1 | Z | $$|+\\rangle,|-\\rangle$$ |$$|1\\rangle$$ |\n",
    "| 0 | X | $$|0\\rangle,|1\\rangle$$ |$$|+\\rangle$$ |\n",
    "| 1 | X | $$|+\\rangle,|-\\rangle$$ |$$|-\\rangle$$ |"
   ]
  },
  {
   "cell_type": "code",
   "execution_count": 4,
   "id": "6c4848f2-f3cd-41af-bbff-ce18df2a596d",
   "metadata": {},
   "outputs": [],
   "source": [
    "# Encode Alice's qubits.\n",
    "# Remeber that the qubit will be in the |0> state at the start, before any gates are applied.\n",
    "\n",
    "encoded_qubits = []\n",
    "for i in range(500):\n",
    "    qc = QuantumCircuit(1,1)\n",
    "    if alice_bases[i] == \"Z\":\n",
    "        if alice_bits[i] == '0':\n",
    "            pass  # We want nothing to happen here - the qubit is already in the state |0>\n",
    "\n",
    "        elif alice_bits[i] == '1':\n",
    "            qc.x(0)  # Applying an X gate to change the qubit state to |1>\n",
    "            \n",
    "    elif alice_bases[i] == \"X\":\n",
    "        if alice_bits[i] == '0':\n",
    "            qc.h(0)  # Applying an H gate to change the qubit state to |+>\n",
    "        elif alice_bits[i] == '1':\n",
    "            qc.x(0)  # Applying an X and H gate to change the qubit state to |->\n",
    "            qc.h(0)\n",
    "            \n",
    "    encoded_qubits.append(qc)  # Adding the qubit with the right state to the list of qubits that Alice will send Bob"
   ]
  },
  {
   "cell_type": "markdown",
   "id": "9621c1c2-26e5-4dbc-ab42-436bfbe46818",
   "metadata": {},
   "source": [
    "<h3>&nbsp;&nbsp;&nbsp;&nbsp;&nbsp;&nbsp;&nbsp;&nbsp;iv. Step 4: Alice sends Bob the encoded qubits.</h3>\n",
    "<h4>&nbsp;&nbsp;&nbsp;&nbsp;&nbsp;&nbsp;&nbsp;&nbsp;&nbsp;Alice may send the qubits to Bob through a fiber optic cable.</h4>\n",
    "<h3>&nbsp;&nbsp;&nbsp;&nbsp;&nbsp;&nbsp;&nbsp;&nbsp;v. <em>Eavesdropping</em>: The eavesdropper Eve intercepts Alice’s qubits and performs measurements on them.</h3>\n",
    "<h3>&nbsp;&nbsp;&nbsp;&nbsp;&nbsp;&nbsp;&nbsp;&nbsp;Remember that measurement is the only way Eve can find out what state the qubits are in.</h3>\n",
    "<h3>&nbsp;&nbsp;&nbsp;&nbsp;&nbsp;&nbsp;&nbsp;&nbsp;To perform these measurements, Eve first has to randomly choose bases to measure in, since Eve </h3>\n",
    "<h3>&nbsp;&nbsp;&nbsp;&nbsp;&nbsp;&nbsp;&nbsp;&nbsp;does not know which bases Alice used for encoding.</h3>\n",
    "\n",
    "<h3>&nbsp;&nbsp;&nbsp;&nbsp;&nbsp;&nbsp;&nbsp;&nbsp;&nbsp;&nbsp;&nbsp;&nbsp;1. Because of this random choice of measurement basis, Eve will change the state of some (approximately half) of Alice’s</h3>\n",
    "<h3>&nbsp;&nbsp;&nbsp;&nbsp;&nbsp;&nbsp;&nbsp;&nbsp;&nbsp;&nbsp;&nbsp;&nbsp;qubits.</h3>\n",
    "<h3>&nbsp;&nbsp;&nbsp;&nbsp;&nbsp;&nbsp;&nbsp;&nbsp;&nbsp;&nbsp;&nbsp;&nbsp;This change because of measurement is how Alice and Bob will later discover the presence of eavesdropper.</h3>\n",
    "<h3>&nbsp;&nbsp;&nbsp;&nbsp;&nbsp;&nbsp;&nbsp;&nbsp;&nbsp;&nbsp;&nbsp;&nbsp;2. After measuring the qubits, Eve will send the qubits on to Bob to remain undetected.</h3>\n",
    "<h3>&nbsp;&nbsp;&nbsp;&nbsp;&nbsp;&nbsp;&nbsp;&nbsp;&nbsp;&nbsp;&nbsp;&nbsp;<em>The eavesdropping are not going to be implemented within this notebook.</em></h3>"
   ]
  },
  {
   "cell_type": "markdown",
   "id": "10942705-f071-4267-9f84-631a8f279ac3",
   "metadata": {},
   "source": [
    "<h3>&nbsp;&nbsp;&nbsp;&nbsp;b. Phase 2: Receiving</h3>\n",
    "<h3>&nbsp;&nbsp;&nbsp;&nbsp;&nbsp;&nbsp;&nbsp;&nbsp;i. Step 5: Bob receives the encoded qubits from Alice (Bob does not know wheter the Eve intercepted the qubits).</h3>\n",
    "<h3>&nbsp;&nbsp;&nbsp;&nbsp;&nbsp;&nbsp;&nbsp;&nbsp;Bob generates a random list of bases (X and Z), producing one basis for every qubit.</h3>\n",
    "<h3>&nbsp;&nbsp;&nbsp;&nbsp;&nbsp;&nbsp;&nbsp;&nbsp;Bob does not know which qubits Alice has sent, or what basis they were encoded in.</h3>\n",
    "<h3>&nbsp;&nbsp;&nbsp;&nbsp;&nbsp;&nbsp;&nbsp;&nbsp;So, Bob generates a list of bases independently to measure each of the qubits in.</h3>"
   ]
  },
  {
   "cell_type": "code",
   "execution_count": 5,
   "id": "6e721c00-8fb6-42fd-abed-070c02cadb04",
   "metadata": {},
   "outputs": [
    {
     "name": "stdout",
     "output_type": "stream",
     "text": [
      "['Z', 'Z', 'Z', 'Z', 'X', 'Z', 'Z', 'X', 'X', 'Z', 'Z', 'Z', 'Z', 'Z', 'X', 'Z', 'Z', 'X', 'X', 'X', 'X', 'Z', 'X', 'Z', 'Z', 'Z', 'X', 'Z', 'Z', 'Z', 'X', 'X', 'X', 'X', 'X', 'X', 'Z', 'X', 'Z', 'Z', 'Z', 'X', 'X', 'X', 'X', 'Z', 'X', 'X', 'X', 'X', 'Z', 'X', 'Z', 'Z', 'X', 'X', 'X', 'Z', 'Z', 'X', 'X', 'X', 'Z', 'Z', 'Z', 'Z', 'Z', 'X', 'X', 'Z', 'Z', 'X', 'X', 'Z', 'Z', 'X', 'Z', 'Z', 'Z', 'X', 'Z', 'Z', 'Z', 'X', 'Z', 'Z', 'Z', 'Z', 'X', 'Z', 'X', 'X', 'Z', 'Z', 'Z', 'X', 'X', 'X', 'X', 'Z', 'X', 'X', 'Z', 'Z', 'X', 'Z', 'X', 'Z', 'Z', 'Z', 'Z', 'X', 'X', 'X', 'Z', 'Z', 'X', 'X', 'Z', 'Z', 'Z', 'Z', 'X', 'Z', 'X', 'X', 'Z', 'X', 'X', 'Z', 'X', 'Z', 'Z', 'Z', 'Z', 'Z', 'X', 'X', 'Z', 'X', 'Z', 'X', 'X', 'X', 'Z', 'X', 'Z', 'X', 'X', 'X', 'X', 'X', 'Z', 'X', 'X', 'X', 'X', 'Z', 'Z', 'X', 'Z', 'Z', 'Z', 'Z', 'X', 'Z', 'X', 'Z', 'X', 'X', 'X', 'Z', 'Z', 'Z', 'X', 'X', 'X', 'X', 'Z', 'X', 'X', 'X', 'Z', 'Z', 'Z', 'Z', 'Z', 'X', 'X', 'Z', 'X', 'Z', 'Z', 'Z', 'X', 'X', 'X', 'X', 'Z', 'Z', 'X', 'X', 'Z', 'X', 'Z', 'Z', 'X', 'Z', 'X', 'Z', 'Z', 'X', 'X', 'Z', 'X', 'Z', 'X', 'Z', 'Z', 'X', 'X', 'X', 'X', 'X', 'Z', 'Z', 'Z', 'Z', 'X', 'Z', 'Z', 'Z', 'X', 'Z', 'X', 'Z', 'X', 'X', 'X', 'Z', 'Z', 'X', 'Z', 'Z', 'X', 'X', 'X', 'X', 'Z', 'Z', 'X', 'X', 'Z', 'X', 'Z', 'Z', 'Z', 'X', 'Z', 'X', 'Z', 'Z', 'X', 'Z', 'X', 'Z', 'X', 'Z', 'X', 'X', 'X', 'Z', 'Z', 'Z', 'Z', 'X', 'X', 'Z', 'Z', 'X', 'X', 'Z', 'X', 'X', 'Z', 'X', 'Z', 'Z', 'X', 'X', 'Z', 'Z', 'X', 'Z', 'Z', 'Z', 'Z', 'Z', 'Z', 'X', 'Z', 'X', 'X', 'Z', 'Z', 'X', 'X', 'Z', 'X', 'X', 'X', 'Z', 'X', 'Z', 'X', 'X', 'Z', 'X', 'Z', 'Z', 'X', 'Z', 'X', 'X', 'X', 'X', 'Z', 'Z', 'X', 'X', 'X', 'Z', 'X', 'Z', 'Z', 'X', 'X', 'Z', 'Z', 'X', 'X', 'Z', 'X', 'X', 'Z', 'Z', 'Z', 'Z', 'X', 'X', 'X', 'Z', 'Z', 'X', 'Z', 'Z', 'X', 'X', 'X', 'X', 'X', 'Z', 'X', 'Z', 'X', 'Z', 'X', 'Z', 'Z', 'X', 'X', 'X', 'X', 'X', 'Z', 'Z', 'X', 'X', 'X', 'Z', 'Z', 'Z', 'Z', 'Z', 'X', 'X', 'Z', 'Z', 'Z', 'Z', 'X', 'Z', 'X', 'X', 'X', 'Z', 'X', 'Z', 'Z', 'Z', 'Z', 'Z', 'X', 'X', 'Z', 'Z', 'Z', 'Z', 'X', 'X', 'Z', 'X', 'X', 'Z', 'X', 'Z', 'X', 'X', 'Z', 'X', 'X', 'X', 'Z', 'X', 'X', 'X', 'X', 'X', 'Z', 'Z', 'Z', 'Z', 'X', 'Z', 'X', 'Z', 'Z', 'Z', 'Z', 'X', 'Z', 'Z', 'Z', 'X', 'Z', 'X', 'X', 'Z', 'X', 'X', 'Z', 'X', 'Z', 'X', 'Z', 'X', 'Z', 'Z', 'Z', 'X', 'Z', 'Z', 'X', 'Z', 'Z', 'Z', 'Z', 'Z', 'Z', 'X', 'Z', 'Z', 'Z', 'X', 'X', 'Z', 'Z', 'X', 'Z', 'Z', 'Z', 'Z', 'Z', 'X', 'X', 'Z', 'Z', 'X', 'X', 'X', 'Z', 'X', 'X', 'Z', 'Z', 'X', 'Z', 'X', 'X', 'Z']\n"
     ]
    }
   ],
   "source": [
    "# Bob generates bases.\n",
    "\n",
    "bob_bases = []\n",
    "for i in range(500):\n",
    "    bit = getrandbits(1)\n",
    "    if bit == 0:\n",
    "        bob_bases.append(\"Z\")\n",
    "    else:\n",
    "        bob_bases.append(\"X\")\n",
    "\n",
    "print(bob_bases)"
   ]
  },
  {
   "cell_type": "markdown",
   "id": "0519e496-6db9-43a2-b8b8-139796512219",
   "metadata": {},
   "source": [
    "<h3>&nbsp;&nbsp;&nbsp;&nbsp;&nbsp;&nbsp;&nbsp;&nbsp;ii. Step 6: Bob performs measurements on the qubits using the randomly generated list of bases from Step 1.</h3>\n",
    "<h3>&nbsp;&nbsp;&nbsp;&nbsp;&nbsp;&nbsp;&nbsp;&nbsp;So, for example, if Alice had sent Bob the qubit state $|-\\rangle$ and Bob measures it in the Z basis, Bob will get either $|0\\rangle$ or\n",
    "    $|1\\rangle$ randomly.</h3>\n",
    "\n",
    "<h3>&nbsp;&nbsp;&nbsp;&nbsp;&nbsp;&nbsp;&nbsp;&nbsp;iii. Step 7: Bob decodes the measured qubits states into bits.</h3>\n",
    "<h3>&nbsp;&nbsp;&nbsp;&nbsp;&nbsp;&nbsp;&nbsp;&nbsp;Bob uses the same encoding/decoding table to generate a list of classical bits corresponding to each of the measured qubits.</h3>\n",
    "<h3>&nbsp;&nbsp;&nbsp;&nbsp;&nbsp;&nbsp;&nbsp;&nbsp;So, for example, if Bob obtained the $|1\\rangle$ state as the result of a measurement, Bob decodes this measurement as classical bit 1.</h3>"
   ]
  },
  {
   "cell_type": "code",
   "execution_count": 6,
   "id": "737a696a-2590-48a0-b029-e3ea95ea95c7",
   "metadata": {},
   "outputs": [
    {
     "name": "stdout",
     "output_type": "stream",
     "text": [
      "['0', '0', '1', '0', '1', '1', '0', '0', '0', '1', '1', '0', '0', '0', '0', '1', '0', '0', '1', '0', '0', '0', '0', '0', '0', '1', '0', '0', '1', '1', '0', '0', '1', '1', '1', '1', '0', '1', '1', '1', '0', '0', '0', '1', '1', '0', '1', '0', '0', '1', '0', '0', '1', '0', '0', '0', '1', '0', '1', '0', '1', '1', '0', '1', '0', '1', '1', '0', '1', '0', '1', '0', '1', '0', '1', '1', '0', '1', '0', '0', '0', '0', '0', '1', '0', '1', '0', '1', '0', '1', '0', '0', '0', '0', '0', '1', '0', '1', '0', '1', '0', '0', '0', '0', '1', '1', '1', '0', '0', '1', '1', '1', '0', '0', '1', '1', '1', '1', '1', '0', '0', '1', '1', '1', '1', '0', '0', '0', '0', '1', '1', '0', '0', '0', '1', '0', '0', '1', '0', '1', '1', '1', '1', '0', '0', '0', '0', '1', '0', '1', '0', '1', '0', '1', '0', '1', '1', '1', '1', '1', '0', '1', '0', '0', '0', '1', '0', '0', '0', '0', '1', '0', '1', '1', '1', '0', '0', '1', '1', '0', '0', '0', '1', '0', '1', '0', '0', '0', '1', '1', '1', '0', '1', '1', '1', '0', '0', '0', '1', '1', '0', '1', '1', '0', '1', '1', '0', '0', '0', '0', '1', '1', '1', '1', '1', '0', '0', '1', '1', '0', '1', '1', '1', '0', '0', '1', '1', '1', '0', '1', '0', '1', '0', '0', '0', '0', '1', '0', '1', '0', '1', '0', '1', '1', '1', '1', '1', '1', '1', '1', '1', '0', '0', '0', '1', '0', '1', '1', '0', '1', '0', '1', '0', '0', '1', '1', '0', '1', '1', '0', '0', '1', '0', '1', '1', '1', '0', '0', '0', '1', '1', '0', '0', '0', '0', '0', '1', '1', '1', '1', '0', '0', '1', '1', '1', '0', '1', '1', '0', '1', '1', '0', '1', '1', '1', '1', '0', '1', '0', '1', '0', '0', '1', '1', '1', '1', '0', '1', '0', '1', '0', '0', '1', '1', '1', '0', '0', '0', '1', '1', '0', '0', '0', '1', '0', '0', '1', '0', '1', '1', '1', '0', '0', '1', '0', '0', '1', '1', '0', '0', '1', '1', '0', '0', '0', '0', '0', '0', '1', '0', '1', '0', '0', '1', '1', '0', '0', '0', '0', '1', '0', '1', '0', '0', '1', '0', '1', '0', '1', '1', '1', '1', '0', '0', '1', '0', '0', '0', '0', '0', '0', '0', '0', '0', '0', '0', '1', '0', '0', '1', '1', '0', '1', '1', '0', '0', '0', '1', '1', '1', '0', '0', '1', '1', '0', '0', '0', '1', '0', '1', '1', '1', '0', '0', '0', '0', '0', '0', '0', '0', '1', '1', '1', '1', '1', '0', '0', '0', '0', '0', '1', '1', '0', '0', '1', '1', '0', '0', '0', '1', '0', '1', '1', '1', '0', '1', '1', '0', '0', '1', '1', '1', '0', '1', '0', '0', '1', '1', '0', '1', '0', '0', '0', '0', '0', '1', '1', '0', '1', '0', '0', '0', '1', '1', '0', '0', '0', '0', '0', '0', '1', '1', '1', '0', '1', '0', '1', '1', '0', '0']\n"
     ]
    }
   ],
   "source": [
    "# Bob measure Alice's qubits. Remeber that if a bit bob_bases is 0, Bob measures in the Z basis.\n",
    "# If the bit is 1, Bob measures in the X basis.\n",
    "\n",
    "bob_bits = []  # List of Bob's bits generated from the results of Bob's measurements\n",
    "    \n",
    "for i in range(500):\n",
    "    qc = encoded_qubits[i]\n",
    "        \n",
    "    if bob_bases[i] == \"Z\":  # Bob's basis is Z\n",
    "            qc.measure(0,0)  # Measurement in the Z basis\n",
    "        \n",
    "\n",
    "    elif bob_bases[i] == \"X\":  # The case that bob_bases[i] is X\n",
    "            qc.h(0) \n",
    "            qc.measure(0,0)  # Measurement in the X basis\n",
    "            \n",
    "            \n",
    "    job = execute(qc, backend=Aer.get_backend('qasm_simulator'), shots = 1) \n",
    "    results = job.result()\n",
    "    counts = results.get_counts()\n",
    "    measured_bit = max(counts, key=counts.get)\n",
    "\n",
    "    # Append measured bit to Bob's measured bitstring\n",
    "    bob_bits.append(measured_bit) \n",
    "    \n",
    "print(bob_bits)"
   ]
  },
  {
   "cell_type": "markdown",
   "id": "7e49138d-ce9c-49f6-9c7e-252c4d6f8a1d",
   "metadata": {
    "tags": []
   },
   "source": [
    "<h3>&nbsp;&nbsp;&nbsp;&nbsp;&nbsp;&nbsp;&nbsp;&nbsp;iv. At the end of this phase, Alice and Bob each have a list of bits and a list of bases.</h3>"
   ]
  },
  {
   "cell_type": "markdown",
   "id": "15364fcd-3d12-4a97-9fb9-83468690c9f4",
   "metadata": {},
   "source": [
    "<h3>&nbsp;&nbsp;&nbsp;&nbsp;c. Phase 3: Comparing</h3>\n",
    "<h3>&nbsp;&nbsp;&nbsp;&nbsp;&nbsp;&nbsp;&nbsp;&nbsp;i. Step 8: Alice and Bob compare their bases on a public channel. This channel does not need to be secure.</h3>"
   ]
  },
  {
   "cell_type": "code",
   "execution_count": 7,
   "id": "7cb111f8-23dd-4ff0-8ad5-c9f29068ca2d",
   "metadata": {},
   "outputs": [
    {
     "data": {
      "text/plain": [
       "247"
      ]
     },
     "execution_count": 7,
     "metadata": {},
     "output_type": "execute_result"
    }
   ],
   "source": [
    "# Alice and Bob compare their bases.\n",
    "\n",
    "agreeing_indices = []\n",
    "    \n",
    "for i in range(len(alice_bases)):\n",
    "    if alice_bases[i]==bob_bases[i]:\n",
    "        agreeing_indices.append(i)\n",
    "    \n",
    "len(agreeing_indices)  # This statement will print how many bases were the same for Alice and Bob."
   ]
  },
  {
   "cell_type": "markdown",
   "id": "cc42717e-425a-4f56-8005-e0345d63bbc0",
   "metadata": {},
   "source": [
    "<h3>&nbsp;&nbsp;&nbsp;&nbsp;&nbsp;&nbsp;&nbsp;&nbsp;Now, Alice knows which bases Bob used, and Bob knows which bases Alice used.</h3>\n",
    "<h3>&nbsp;&nbsp;&nbsp;&nbsp;&nbsp;&nbsp;&nbsp;&nbsp;After comparing bases, Alice and Bob eliminate those bits from their lists for which the bases do not match. </h3>\n",
    "<h3>&nbsp;&nbsp;&nbsp;&nbsp;&nbsp;&nbsp;&nbsp;&nbsp;Bob does not know which bits Alice generated.</h3>\n",
    "<h3>&nbsp;&nbsp;&nbsp;&nbsp;&nbsp;&nbsp;&nbsp;&nbsp;&nbsp;&nbsp;&nbsp;&nbsp;1. The bits remaining in their lists after this step have to match, unless there was an eavesdropper!</h3>\n",
    "<h3>&nbsp;&nbsp;&nbsp;&nbsp;&nbsp;&nbsp;&nbsp;&nbsp;&nbsp;&nbsp;&nbsp;&nbsp;The remaining bits were encoded and decoded in the same bases, and so they have to be the same.</h3>\n",
    "<h3>&nbsp;&nbsp;&nbsp;&nbsp;&nbsp;&nbsp;&nbsp;&nbsp;&nbsp;&nbsp;&nbsp;&nbsp;2. These matching bits form their shared key!</h3>"
   ]
  },
  {
   "cell_type": "markdown",
   "id": "bf649476-2891-457a-9957-4e129eae908e",
   "metadata": {},
   "source": [
    "<h3>&nbsp;&nbsp;&nbsp;&nbsp;&nbsp;&nbsp;&nbsp;&nbsp;ii. Step 9: Alice and Bob compare their bits. By comparing their bits, Alice and Bob can figure out if there was an eavesdropper.</h3>\n",
    "<h3>&nbsp;&nbsp;&nbsp;&nbsp;&nbsp;&nbsp;&nbsp;&nbsp;&nbsp;&nbsp;&nbsp;&nbsp;1. If there was an eavesdropper, some of their bits would be different! In this case they know that their communication is compromised.</h3>\n",
    "<h3>&nbsp;&nbsp;&nbsp;&nbsp;&nbsp;&nbsp;&nbsp;&nbsp;&nbsp;&nbsp;&nbsp;&nbsp;However, they have not shared the actual message yet, so the secret message is secure.</h3>\n",
    "<h3>&nbsp;&nbsp;&nbsp;&nbsp;&nbsp;&nbsp;&nbsp;&nbsp;&nbsp;&nbsp;&nbsp;&nbsp;2. If there was no eavesdropper, all their bits would match. In this case they know that their communication is secure.</h3>\n",
    "<h3>&nbsp;&nbsp;&nbsp;&nbsp;&nbsp;&nbsp;&nbsp;&nbsp;&nbsp;&nbsp;&nbsp;&nbsp;They can repeat the QKD protocol to establish a new key and communicate with it.</h3>"
   ]
  },
  {
   "cell_type": "code",
   "execution_count": 8,
   "id": "fb0ddb23-cf68-4515-9c4a-c310792af6a0",
   "metadata": {},
   "outputs": [
    {
     "name": "stdout",
     "output_type": "stream",
     "text": [
      "['0', '1', '0', '1', '0', '0', '0', '0', '1', '0', '0', '0', '0', '0', '1', '1', '0', '0', '1', '0', '0', '1', '0', '1', '0', '1', '0', '1', '0', '1', '1', '0', '1', '0', '0', '1', '0', '1', '0', '0', '0', '0', '0', '0', '0', '1', '0', '1', '1', '0', '1', '1', '0', '0', '0', '0', '1', '0', '0', '1', '1', '0', '0', '1', '1', '0', '1', '0', '1', '1', '0', '0', '0', '0', '1', '0', '1', '0', '1', '1', '0', '1', '0', '1', '1', '1', '1', '0', '0', '0', '1', '1', '0', '1', '1', '0', '1', '1', '0', '0', '1', '0', '0', '0', '0', '1', '1', '1', '0', '1', '1', '0', '0', '1', '1', '1', '0', '0', '0', '1', '0', '1', '1', '1', '1', '0', '1', '1', '0', '1', '0', '1', '0', '1', '0', '0', '1', '0', '0', '0', '0', '0', '0', '1', '1', '1', '0', '1', '1', '1', '1', '1', '0', '0', '1', '1', '1', '0', '1', '1', '0', '1', '1', '0', '0', '0', '1', '0', '0', '1', '1', '0', '1', '0', '0', '0', '0', '0', '0', '0', '0', '1', '1', '0', '0', '1', '1', '1', '1', '1', '1', '1', '0', '0', '1', '0', '0', '0', '0', '0', '1', '0', '0', '1', '1', '0', '0', '0', '1', '1', '0', '1', '0', '0', '1', '1', '0', '0', '0', '0', '1', '1', '1', '1', '0', '0', '1', '1', '1', '1', '0', '1', '1', '1', '0', '0', '1', '0', '0', '0', '1', '0', '0', '0', '1', '1', '0']\n"
     ]
    }
   ],
   "source": [
    "# Create Alice's key.\n",
    "\n",
    "alice_key = []\n",
    "for index in agreeing_indices:\n",
    "    alice_key.append(alice_bits[index])\n",
    "    \n",
    "print(alice_key)"
   ]
  },
  {
   "cell_type": "code",
   "execution_count": 9,
   "id": "623f54ed-6634-48fd-9afc-0e140209ae0f",
   "metadata": {},
   "outputs": [
    {
     "name": "stdout",
     "output_type": "stream",
     "text": [
      "['0', '1', '0', '1', '0', '0', '0', '0', '1', '0', '0', '0', '0', '0', '1', '1', '0', '0', '1', '0', '0', '1', '0', '1', '0', '1', '0', '1', '0', '1', '1', '0', '1', '0', '0', '1', '0', '1', '0', '0', '0', '0', '0', '0', '0', '1', '0', '1', '1', '0', '1', '1', '0', '0', '0', '0', '1', '0', '0', '1', '1', '0', '0', '1', '1', '0', '1', '0', '1', '1', '0', '0', '0', '0', '1', '0', '1', '0', '1', '1', '0', '1', '0', '1', '1', '1', '1', '0', '0', '0', '1', '1', '0', '1', '1', '0', '1', '1', '0', '0', '1', '0', '0', '0', '0', '1', '1', '1', '0', '1', '1', '0', '0', '1', '1', '1', '0', '0', '0', '1', '0', '1', '1', '1', '1', '0', '1', '1', '0', '1', '0', '1', '0', '1', '0', '0', '1', '0', '0', '0', '0', '0', '0', '1', '1', '1', '0', '1', '1', '1', '1', '1', '0', '0', '1', '1', '1', '0', '1', '1', '0', '1', '1', '0', '0', '0', '1', '0', '0', '1', '1', '0', '1', '0', '0', '0', '0', '0', '0', '0', '0', '1', '1', '0', '0', '1', '1', '1', '1', '1', '1', '1', '0', '0', '1', '0', '0', '0', '0', '0', '1', '0', '0', '1', '1', '0', '0', '0', '1', '1', '0', '1', '0', '0', '1', '1', '0', '0', '0', '0', '1', '1', '1', '1', '0', '0', '1', '1', '1', '1', '0', '1', '1', '1', '0', '0', '1', '0', '0', '0', '1', '0', '0', '0', '1', '1', '0']\n"
     ]
    }
   ],
   "source": [
    "# Create Bob's key.\n",
    "\n",
    "bob_key = []\n",
    "for index in agreeing_indices:\n",
    "    bob_key.append(bob_bits[index])\n",
    "\n",
    "print(bob_key)"
   ]
  },
  {
   "cell_type": "code",
   "execution_count": 11,
   "id": "6395172b-f969-4003-acd6-27c096cd4b3c",
   "metadata": {},
   "outputs": [
    {
     "name": "stdout",
     "output_type": "stream",
     "text": [
      "True\n"
     ]
    }
   ],
   "source": [
    "# Chech whether these keys are the same.\n",
    "\n",
    "print(alice_key == bob_key)"
   ]
  },
  {
   "cell_type": "markdown",
   "id": "9abd2e0c-6ee2-42a3-8cdc-8e64d7e79066",
   "metadata": {},
   "source": [
    "<h3>All their bits match. It was no eavesdropper. In this case they know that their communication is secure.</h3>\n",
    "<h3>They can repeat the QKD protocol to establish a new key and communicate with it.</h3>"
   ]
  },
  {
   "cell_type": "markdown",
   "id": "ff425c5c-270f-4d36-aa14-98d05d3fb185",
   "metadata": {},
   "source": [
    "<h3>The challenge in the QKD is that an eavsedropper may create the same pare of bases.</h3>\n",
    "<h3>However, the <strong><a href=\"https://en.wikipedia.org/wiki/No-cloning_theorem\">no-cloning theorem</a></strong> states that it is impossible to create a copy of an unknown quantum state.</h3>\n",
    "<h3>The implications of this theorem for QKD are following according to <a href=\"https://arxiv.org/pdf/1301.2956.pdf\">https://arxiv.org/pdf/1301.2956.pdf</a>\n",
    "    :</h3>\n",
    "<h3>&nbsp;&nbsp;1. States an unknown quantum state cannot be cloned perfectly.</h3>\n",
    "<h3>&nbsp;&nbsp;2. However, a quantum state can be clonned approximately with the optimal fidelity.</h3>\n",
    "<h3>&nbsp;&nbsp;3. Or instead, we can try to clone it perfectly but with the largest probability.</h3>\n",
    "<h3>&nbsp;&nbsp;4. Thus, various quantum cloning machines have been designed for the QKD protocol. This undermines the securitness of the protocol.</h3>"
   ]
  },
  {
   "cell_type": "code",
   "execution_count": 12,
   "id": "d1f58695-1afd-4c9c-b3d4-9adf2f9d774d",
   "metadata": {},
   "outputs": [
    {
     "data": {
      "text/html": [
       "<h3>Version Information</h3><table><tr><th>Qiskit Software</th><th>Version</th></tr><tr><td><code>qiskit-terra</code></td><td>0.20.2</td></tr><tr><td><code>qiskit-aer</code></td><td>0.10.4</td></tr><tr><td><code>qiskit-ignis</code></td><td>0.7.1</td></tr><tr><td><code>qiskit-ibmq-provider</code></td><td>0.19.1</td></tr><tr><td><code>qiskit</code></td><td>0.36.2</td></tr><tr><td><code>qiskit-nature</code></td><td>0.4.1</td></tr><tr><td><code>qiskit-finance</code></td><td>0.3.2</td></tr><tr><td><code>qiskit-optimization</code></td><td>0.3.2</td></tr><tr><td><code>qiskit-machine-learning</code></td><td>0.4.0</td></tr><tr><th>System information</th></tr><tr><td>Python version</td><td>3.8.13</td></tr><tr><td>Python compiler</td><td>GCC 10.3.0</td></tr><tr><td>Python build</td><td>default, Mar 25 2022 06:04:10</td></tr><tr><td>OS</td><td>Linux</td></tr><tr><td>CPUs</td><td>8</td></tr><tr><td>Memory (Gb)</td><td>31.211315155029297</td></tr><tr><td colspan='2'>Fri Jul 01 01:19:23 2022 UTC</td></tr></table>"
      ],
      "text/plain": [
       "<IPython.core.display.HTML object>"
      ]
     },
     "metadata": {},
     "output_type": "display_data"
    }
   ],
   "source": [
    "import qiskit.tools.jupyter\n",
    "%qiskit_version_table"
   ]
  },
  {
   "cell_type": "raw",
   "id": "462eda70-3047-447d-9906-302f5003389d",
   "metadata": {},
   "source": [
    "Copyright 2022 Anastasiia Andriievska\n",
    "\n",
    "Licensed under the Apache License, Version 2.0 (the \"License\");\n",
    "you may not use this file except in compliance with the License.\n",
    "You may obtain a copy of the License at\n",
    "\n",
    "   http://www.apache.org/licenses/LICENSE-2.0\n",
    "\n",
    "Unless required by applicable law or agreed to in writing, software\n",
    "distributed under the License is distributed on an \"AS IS\" BASIS,\n",
    "WITHOUT WARRANTIES OR CONDITIONS OF ANY KIND, either express or implied.\n",
    "See the License for the specific language governing permissions and\n",
    "limitations under the License"
   ]
  }
 ],
 "metadata": {
  "kernelspec": {
   "display_name": "Python 3 (ipykernel)",
   "language": "python",
   "name": "python3"
  },
  "language_info": {
   "codemirror_mode": {
    "name": "ipython",
    "version": 3
   },
   "file_extension": ".py",
   "mimetype": "text/x-python",
   "name": "python",
   "nbconvert_exporter": "python",
   "pygments_lexer": "ipython3",
   "version": "3.8.13"
  },
  "widgets": {
   "application/vnd.jupyter.widget-state+json": {
    "state": {
     "1717d2a24caf4133b30077720286a7a0": {
      "model_module": "@jupyter-widgets/controls",
      "model_module_version": "1.5.0",
      "model_name": "ButtonStyleModel",
      "state": {}
     },
     "186d1dfd9daf4227ba076da1a0fe7e70": {
      "model_module": "@jupyter-widgets/controls",
      "model_module_version": "1.5.0",
      "model_name": "DescriptionStyleModel",
      "state": {
       "description_width": ""
      }
     },
     "239add737467423f8fc6f3678ff0ec3d": {
      "model_module": "@jupyter-widgets/controls",
      "model_module_version": "1.5.0",
      "model_name": "HTMLModel",
      "state": {
       "layout": "IPY_MODEL_59c941603c42422a80afcb2d0bffc2e5",
       "style": "IPY_MODEL_87be41d132d4461696ffd1d033085904",
       "value": "<h5>Message</h5>"
      }
     },
     "29c8bfcb4f6f4ebea7ce236a58710104": {
      "model_module": "@jupyter-widgets/controls",
      "model_module_version": "1.5.0",
      "model_name": "HBoxModel",
      "state": {
       "children": [
        "IPY_MODEL_5b1855595ddd4e6ab83211ac7ac59ae4",
        "IPY_MODEL_79b036883f604ac0838ceb960a50bc67",
        "IPY_MODEL_c1b53aa4a9d84884a23bf1afc88b60bb",
        "IPY_MODEL_be985ea294d4434fb640754aacf44b1a",
        "IPY_MODEL_239add737467423f8fc6f3678ff0ec3d"
       ],
       "layout": "IPY_MODEL_a9f875cb845144f483bec6f89791e24c"
      }
     },
     "351efdd4eecf4a85970fb5fc47945276": {
      "model_module": "@jupyter-widgets/base",
      "model_module_version": "1.2.0",
      "model_name": "LayoutModel",
      "state": {
       "width": "145px"
      }
     },
     "4367335ba1224c73a0c439ecace17103": {
      "model_module": "@jupyter-widgets/base",
      "model_module_version": "1.2.0",
      "model_name": "LayoutModel",
      "state": {
       "width": "190px"
      }
     },
     "4be81e92fc4e43a1b407422f60cfe57a": {
      "model_module": "@jupyter-widgets/controls",
      "model_module_version": "1.5.0",
      "model_name": "HTMLModel",
      "state": {
       "layout": "IPY_MODEL_b85955af68ab4eb7b4e7ec365f845ea0",
       "style": "IPY_MODEL_b2df8357447c43d790e0ca5e7a87c193",
       "value": "<p style='font-family: IBM Plex Sans, Arial, Helvetica, sans-serif; font-size: 20px; font-weight: medium;'>Circuit Properties</p>"
      }
     },
     "59c941603c42422a80afcb2d0bffc2e5": {
      "model_module": "@jupyter-widgets/base",
      "model_module_version": "1.2.0",
      "model_name": "LayoutModel",
      "state": {}
     },
     "5b1855595ddd4e6ab83211ac7ac59ae4": {
      "model_module": "@jupyter-widgets/controls",
      "model_module_version": "1.5.0",
      "model_name": "HTMLModel",
      "state": {
       "layout": "IPY_MODEL_4367335ba1224c73a0c439ecace17103",
       "style": "IPY_MODEL_94968ee2e8674d0b8a5a867ed0d49cd9",
       "value": "<h5>Job ID</h5>"
      }
     },
     "79b036883f604ac0838ceb960a50bc67": {
      "model_module": "@jupyter-widgets/controls",
      "model_module_version": "1.5.0",
      "model_name": "HTMLModel",
      "state": {
       "layout": "IPY_MODEL_351efdd4eecf4a85970fb5fc47945276",
       "style": "IPY_MODEL_186d1dfd9daf4227ba076da1a0fe7e70",
       "value": "<h5>Backend</h5>"
      }
     },
     "8066ca4701614c98902718b3ed655b89": {
      "model_module": "@jupyter-widgets/controls",
      "model_module_version": "1.5.0",
      "model_name": "DescriptionStyleModel",
      "state": {
       "description_width": ""
      }
     },
     "86f1c7d264a04811b8fc61fe40441782": {
      "model_module": "@jupyter-widgets/controls",
      "model_module_version": "1.5.0",
      "model_name": "ButtonModel",
      "state": {
       "button_style": "primary",
       "description": "Clear",
       "layout": "IPY_MODEL_c0ef52c83bb14edeb1f6904a37c7bf5e",
       "style": "IPY_MODEL_1717d2a24caf4133b30077720286a7a0"
      }
     },
     "87be41d132d4461696ffd1d033085904": {
      "model_module": "@jupyter-widgets/controls",
      "model_module_version": "1.5.0",
      "model_name": "DescriptionStyleModel",
      "state": {
       "description_width": ""
      }
     },
     "94968ee2e8674d0b8a5a867ed0d49cd9": {
      "model_module": "@jupyter-widgets/controls",
      "model_module_version": "1.5.0",
      "model_name": "DescriptionStyleModel",
      "state": {
       "description_width": ""
      }
     },
     "a83fd80308d44bb099682a7fc052788c": {
      "model_module": "@jupyter-widgets/base",
      "model_module_version": "1.2.0",
      "model_name": "LayoutModel",
      "state": {
       "width": "95px"
      }
     },
     "a9f875cb845144f483bec6f89791e24c": {
      "model_module": "@jupyter-widgets/base",
      "model_module_version": "1.2.0",
      "model_name": "LayoutModel",
      "state": {
       "margin": "0px 0px 0px 37px",
       "width": "600px"
      }
     },
     "b2df8357447c43d790e0ca5e7a87c193": {
      "model_module": "@jupyter-widgets/controls",
      "model_module_version": "1.5.0",
      "model_name": "DescriptionStyleModel",
      "state": {
       "description_width": ""
      }
     },
     "b85955af68ab4eb7b4e7ec365f845ea0": {
      "model_module": "@jupyter-widgets/base",
      "model_module_version": "1.2.0",
      "model_name": "LayoutModel",
      "state": {
       "margin": "0px 0px 10px 0px"
      }
     },
     "bca5598c921542df91a2230c7787c95d": {
      "model_module": "@jupyter-widgets/base",
      "model_module_version": "1.2.0",
      "model_name": "LayoutModel",
      "state": {
       "grid_template_areas": "\n                                       \". . . . right \"\n                                        ",
       "grid_template_columns": "20% 20% 20% 20% 20%",
       "width": "100%"
      }
     },
     "be985ea294d4434fb640754aacf44b1a": {
      "model_module": "@jupyter-widgets/controls",
      "model_module_version": "1.5.0",
      "model_name": "HTMLModel",
      "state": {
       "layout": "IPY_MODEL_dae489850b3645c1a6c0488fde411ff7",
       "style": "IPY_MODEL_8066ca4701614c98902718b3ed655b89",
       "value": "<h5>Queue</h5>"
      }
     },
     "c0ef52c83bb14edeb1f6904a37c7bf5e": {
      "model_module": "@jupyter-widgets/base",
      "model_module_version": "1.2.0",
      "model_name": "LayoutModel",
      "state": {
       "grid_area": "right",
       "padding": "0px 0px 0px 0px",
       "width": "70px"
      }
     },
     "c1b53aa4a9d84884a23bf1afc88b60bb": {
      "model_module": "@jupyter-widgets/controls",
      "model_module_version": "1.5.0",
      "model_name": "HTMLModel",
      "state": {
       "layout": "IPY_MODEL_a83fd80308d44bb099682a7fc052788c",
       "style": "IPY_MODEL_c210dc425feb43f4bf183e6065fac796",
       "value": "<h5>Status</h5>"
      }
     },
     "c210dc425feb43f4bf183e6065fac796": {
      "model_module": "@jupyter-widgets/controls",
      "model_module_version": "1.5.0",
      "model_name": "DescriptionStyleModel",
      "state": {
       "description_width": ""
      }
     },
     "cad4df456cea47c2b10b517e47bc962a": {
      "model_module": "@jupyter-widgets/controls",
      "model_module_version": "1.5.0",
      "model_name": "GridBoxModel",
      "state": {
       "children": [
        "IPY_MODEL_86f1c7d264a04811b8fc61fe40441782"
       ],
       "layout": "IPY_MODEL_bca5598c921542df91a2230c7787c95d"
      }
     },
     "dae489850b3645c1a6c0488fde411ff7": {
      "model_module": "@jupyter-widgets/base",
      "model_module_version": "1.2.0",
      "model_name": "LayoutModel",
      "state": {
       "width": "70px"
      }
     }
    },
    "version_major": 2,
    "version_minor": 0
   }
  }
 },
 "nbformat": 4,
 "nbformat_minor": 5
}
